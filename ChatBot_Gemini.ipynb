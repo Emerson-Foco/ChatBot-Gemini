{
  "nbformat": 4,
  "nbformat_minor": 0,
  "metadata": {
    "colab": {
      "provenance": [],
      "authorship_tag": "ABX9TyNNo2whzdnXWmpO9Bfx19bO",
      "include_colab_link": true
    },
    "kernelspec": {
      "name": "python3",
      "display_name": "Python 3"
    },
    "language_info": {
      "name": "python"
    }
  },
  "cells": [
    {
      "cell_type": "markdown",
      "metadata": {
        "id": "view-in-github",
        "colab_type": "text"
      },
      "source": [
        "<a href=\"https://colab.research.google.com/github/Emerson-Foco/ChatBot-Gemini/blob/main/ChatBot_Gemini.ipynb\" target=\"_parent\"><img src=\"https://colab.research.google.com/assets/colab-badge.svg\" alt=\"Open In Colab\"/></a>"
      ]
    },
    {
      "cell_type": "markdown",
      "source": [
        "Instalar SDK do Google"
      ],
      "metadata": {
        "id": "ifR4W_dxQ1g-"
      }
    },
    {
      "cell_type": "code",
      "execution_count": 1,
      "metadata": {
        "id": "sSAtDBIEQppY"
      },
      "outputs": [],
      "source": [
        "!pip install -q -U google-generativeai"
      ]
    },
    {
      "cell_type": "markdown",
      "source": [
        "Importar SDK"
      ],
      "metadata": {
        "id": "k9n4vHhVRMGp"
      }
    },
    {
      "cell_type": "code",
      "source": [
        "import pathlib\n",
        "import textwrap\n",
        "\n",
        "import google.generativeai as genai\n",
        "\n",
        "from IPython.display import display\n",
        "from IPython.display import Markdown\n",
        "\n",
        "\n",
        "def to_markdown(text):\n",
        "  text = text.replace('•', '  *')\n",
        "  return Markdown(textwrap.indent(text, '> ', predicate=lambda _: True))"
      ],
      "metadata": {
        "id": "sHNNZBv0ROSc"
      },
      "execution_count": 2,
      "outputs": []
    },
    {
      "cell_type": "markdown",
      "source": [
        "Configurar chave"
      ],
      "metadata": {
        "id": "2z3yPf15RgGB"
      }
    },
    {
      "cell_type": "code",
      "source": [
        "# Or use `os.getenv('GOOGLE_API_KEY')` to fetch an environment variable.\n",
        "\n",
        "from google.colab import userdata\n",
        "api_key = userdata.get('SECRET_KEY')\n",
        "\n",
        "genai.configure(api_key=api_key)"
      ],
      "metadata": {
        "id": "5x0za-aDRlza"
      },
      "execution_count": 20,
      "outputs": []
    },
    {
      "cell_type": "markdown",
      "source": [
        "Listar modelos disponiveis"
      ],
      "metadata": {
        "id": "XsvaKjHJRyDk"
      }
    },
    {
      "cell_type": "code",
      "source": [
        "for m in genai.list_models():\n",
        "  if 'generateContent' in m.supported_generation_methods:\n",
        "    print(m.name)"
      ],
      "metadata": {
        "colab": {
          "base_uri": "https://localhost:8080/",
          "height": 138
        },
        "id": "k680K34OR0UD",
        "outputId": "ce2b6196-37ec-4146-f67f-896fb35a2865"
      },
      "execution_count": 4,
      "outputs": [
        {
          "output_type": "stream",
          "name": "stdout",
          "text": [
            "models/gemini-1.0-pro\n",
            "models/gemini-1.0-pro-001\n",
            "models/gemini-1.0-pro-latest\n",
            "models/gemini-1.0-pro-vision-latest\n",
            "models/gemini-1.5-pro-latest\n",
            "models/gemini-pro\n",
            "models/gemini-pro-vision\n"
          ]
        }
      ]
    },
    {
      "cell_type": "markdown",
      "source": [
        "Configuração do modelo"
      ],
      "metadata": {
        "id": "1XaJMdbOUPvX"
      }
    },
    {
      "cell_type": "code",
      "source": [
        "generation_config = {\n",
        "    'candidate_count': 1,\n",
        "    'temperature': 0.5,\n",
        "}\n",
        "\n",
        "safety_settings = {\n",
        "    'HARASSMENT': 'BLOCK_NONE',\n",
        "    'HATE': 'BLOCK_NONE',\n",
        "    'SEXUAL': 'BLOCK_NONE',\n",
        "    'DANGEROUS': 'BLOCK_NONE',\n",
        "}"
      ],
      "metadata": {
        "id": "XZHgeUfuUVc6"
      },
      "execution_count": 6,
      "outputs": []
    },
    {
      "cell_type": "markdown",
      "source": [
        "Definir modelo"
      ],
      "metadata": {
        "id": "97CPX8eFR3tZ"
      }
    },
    {
      "cell_type": "code",
      "source": [
        "model = genai.GenerativeModel('gemini-pro', generation_config=generation_config, safety_settings=safety_settings)"
      ],
      "metadata": {
        "id": "9PV7LubVR5ej"
      },
      "execution_count": 7,
      "outputs": []
    },
    {
      "cell_type": "markdown",
      "source": [
        "Enviar mensagem"
      ],
      "metadata": {
        "id": "xzQVz1_nShIm"
      }
    },
    {
      "cell_type": "code",
      "source": [
        "%%time\n",
        "response = model.generate_content(\"Me fale de algo novo sobre programação\")\n",
        "to_markdown(response.text)"
      ],
      "metadata": {
        "id": "0DDrT-hpSkUY"
      },
      "execution_count": null,
      "outputs": []
    },
    {
      "cell_type": "markdown",
      "source": [
        "\n",
        "\n",
        "---\n",
        "\n",
        "Conversar com o modelo"
      ],
      "metadata": {
        "id": "3EPEQrzqYvhE"
      }
    },
    {
      "cell_type": "code",
      "source": [
        "chat = model.start_chat(history=[])"
      ],
      "metadata": {
        "id": "bEKdaLMzY2TH"
      },
      "execution_count": 9,
      "outputs": []
    },
    {
      "cell_type": "code",
      "source": [
        "prompt = input('Esperando prompt: ')\n",
        "\n",
        "while prompt != 'fim':\n",
        "  response = chat.send_message(prompt)\n",
        "  print('Gemini: ', response.text, '\\n')\n",
        "  prompt = input('Esperando prompt: ')"
      ],
      "metadata": {
        "id": "ryWKKw9XZEuP"
      },
      "execution_count": null,
      "outputs": []
    },
    {
      "cell_type": "markdown",
      "source": [
        "Limpar chat"
      ],
      "metadata": {
        "id": "FMQfYOdBmUvN"
      }
    },
    {
      "cell_type": "code",
      "source": [
        "chat.history = [];"
      ],
      "metadata": {
        "id": "1m4mjwalmWmv"
      },
      "execution_count": 19,
      "outputs": []
    }
  ]
}